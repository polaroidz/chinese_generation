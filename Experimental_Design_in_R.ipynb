{
  "nbformat": 4,
  "nbformat_minor": 0,
  "metadata": {
    "colab": {
      "name": "Experimental_Design_in_R.ipynb",
      "provenance": [],
      "collapsed_sections": [],
      "authorship_tag": "ABX9TyO1i0cqcSgFWltSF5151hnW",
      "include_colab_link": true
    },
    "kernelspec": {
      "name": "ir",
      "display_name": "R"
    },
    "language_info": {
      "name": "R"
    }
  },
  "cells": [
    {
      "cell_type": "markdown",
      "metadata": {
        "id": "view-in-github",
        "colab_type": "text"
      },
      "source": [
        "<a href=\"https://colab.research.google.com/github/polaroidz/chinese_generation/blob/master/Experimental_Design_in_R.ipynb\" target=\"_parent\"><img src=\"https://colab.research.google.com/assets/colab-badge.svg\" alt=\"Open In Colab\"/></a>"
      ]
    },
    {
      "cell_type": "code",
      "metadata": {
        "colab": {
          "base_uri": "https://localhost:8080/"
        },
        "id": "M3CcvarjXSp_",
        "outputId": "d142e5fb-6b54-48a8-cfd7-7971d9ab3492"
      },
      "source": [
        "library(tidyverse)\n",
        "\n",
        "data(ToothGrowth)"
      ],
      "execution_count": 2,
      "outputs": [
        {
          "output_type": "stream",
          "text": [
            "Warning message in system(\"timedatectl\", intern = TRUE):\n",
            "“running command 'timedatectl' had status 1”\n",
            "── \u001b[1mAttaching packages\u001b[22m ─────────────────────────────────────── tidyverse 1.3.0 ──\n",
            "\n",
            "\u001b[32m✔\u001b[39m \u001b[34mggplot2\u001b[39m 3.3.3     \u001b[32m✔\u001b[39m \u001b[34mpurrr  \u001b[39m 0.3.4\n",
            "\u001b[32m✔\u001b[39m \u001b[34mtibble \u001b[39m 3.1.0     \u001b[32m✔\u001b[39m \u001b[34mdplyr  \u001b[39m 1.0.5\n",
            "\u001b[32m✔\u001b[39m \u001b[34mtidyr  \u001b[39m 1.1.3     \u001b[32m✔\u001b[39m \u001b[34mstringr\u001b[39m 1.4.0\n",
            "\u001b[32m✔\u001b[39m \u001b[34mreadr  \u001b[39m 1.4.0     \u001b[32m✔\u001b[39m \u001b[34mforcats\u001b[39m 0.5.1\n",
            "\n",
            "── \u001b[1mConflicts\u001b[22m ────────────────────────────────────────── tidyverse_conflicts() ──\n",
            "\u001b[31m✖\u001b[39m \u001b[34mdplyr\u001b[39m::\u001b[32mfilter()\u001b[39m masks \u001b[34mstats\u001b[39m::filter()\n",
            "\u001b[31m✖\u001b[39m \u001b[34mdplyr\u001b[39m::\u001b[32mlag()\u001b[39m    masks \u001b[34mstats\u001b[39m::lag()\n",
            "\n"
          ],
          "name": "stderr"
        }
      ]
    },
    {
      "cell_type": "code",
      "metadata": {
        "colab": {
          "base_uri": "https://localhost:8080/"
        },
        "id": "m8DEMkPZa8yM",
        "outputId": "3804b20a-eece-4795-d896-9d26ec6d6498"
      },
      "source": [
        "glimpse(ToothGrowth)"
      ],
      "execution_count": 3,
      "outputs": [
        {
          "output_type": "stream",
          "text": [
            "Rows: 60\n",
            "Columns: 3\n",
            "$ len  \u001b[3m\u001b[90m<dbl>\u001b[39m\u001b[23m 4.2, 11.5, 7.3, 5.8, 6.4, 10.0, 11.2, 11.2, 5.2, 7.0, 16.5, 16.5,…\n",
            "$ supp \u001b[3m\u001b[90m<fct>\u001b[39m\u001b[23m VC, VC, VC, VC, VC, VC, VC, VC, VC, VC, VC, VC, VC, VC, VC, VC, V…\n",
            "$ dose \u001b[3m\u001b[90m<dbl>\u001b[39m\u001b[23m 0.5, 0.5, 0.5, 0.5, 0.5, 0.5, 0.5, 0.5, 0.5, 0.5, 1.0, 1.0, 1.0, …\n"
          ],
          "name": "stdout"
        }
      ]
    },
    {
      "cell_type": "code",
      "metadata": {
        "colab": {
          "base_uri": "https://localhost:8080/",
          "height": 217
        },
        "id": "ij_ANu48bSKw",
        "outputId": "8782cf91-25cf-4dd6-b363-6d7c3c868cf6"
      },
      "source": [
        "# Perform a two-sided t-test\n",
        "t.test(x = ToothGrowth$len, alternative = \"two.sided\", mu = 18)"
      ],
      "execution_count": 4,
      "outputs": [
        {
          "output_type": "display_data",
          "data": {
            "text/plain": [
              "\n",
              "\tOne Sample t-test\n",
              "\n",
              "data:  ToothGrowth$len\n",
              "t = 0.82361, df = 59, p-value = 0.4135\n",
              "alternative hypothesis: true mean is not equal to 18\n",
              "95 percent confidence interval:\n",
              " 16.83731 20.78936\n",
              "sample estimates:\n",
              "mean of x \n",
              " 18.81333 \n"
            ]
          },
          "metadata": {
            "tags": []
          }
        }
      ]
    },
    {
      "cell_type": "code",
      "metadata": {
        "colab": {
          "base_uri": "https://localhost:8080/",
          "height": 125
        },
        "id": "SZIWk54qbhy_",
        "outputId": "0ee2c151-d238-474c-881f-41ad0e201990"
      },
      "source": [
        "# Perform a t-test\n",
        "ToothGrowth_ttest <- t.test(len ~ supp, data = ToothGrowth)\n",
        "\n",
        "# Load broom\n",
        "library(broom)\n",
        "\n",
        "# Tidy ToothGrowth_ttest\n",
        "tidy(ToothGrowth_ttest)"
      ],
      "execution_count": 5,
      "outputs": [
        {
          "output_type": "display_data",
          "data": {
            "text/plain": [
              "  estimate estimate1 estimate2 statistic p.value    parameter conf.low  \n",
              "1 3.7      20.66333  16.96333  1.915268  0.06063451 55.30943  -0.1710156\n",
              "  conf.high method                  alternative\n",
              "1 7.571016  Welch Two Sample t-test two.sided  "
            ],
            "text/latex": "A tibble: 1 × 10\n\\begin{tabular}{llllllllll}\n estimate & estimate1 & estimate2 & statistic & p.value & parameter & conf.low & conf.high & method & alternative\\\\\n <dbl> & <dbl> & <dbl> & <dbl> & <dbl> & <dbl> & <dbl> & <dbl> & <chr> & <chr>\\\\\n\\hline\n\t 3.7 & 20.66333 & 16.96333 & 1.915268 & 0.06063451 & 55.30943 & -0.1710156 & 7.571016 & Welch Two Sample t-test & two.sided\\\\\n\\end{tabular}\n",
            "text/markdown": "\nA tibble: 1 × 10\n\n| estimate &lt;dbl&gt; | estimate1 &lt;dbl&gt; | estimate2 &lt;dbl&gt; | statistic &lt;dbl&gt; | p.value &lt;dbl&gt; | parameter &lt;dbl&gt; | conf.low &lt;dbl&gt; | conf.high &lt;dbl&gt; | method &lt;chr&gt; | alternative &lt;chr&gt; |\n|---|---|---|---|---|---|---|---|---|---|\n| 3.7 | 20.66333 | 16.96333 | 1.915268 | 0.06063451 | 55.30943 | -0.1710156 | 7.571016 | Welch Two Sample t-test | two.sided |\n\n",
            "text/html": [
              "<table class=\"dataframe\">\n",
              "<caption>A tibble: 1 × 10</caption>\n",
              "<thead>\n",
              "\t<tr><th scope=col>estimate</th><th scope=col>estimate1</th><th scope=col>estimate2</th><th scope=col>statistic</th><th scope=col>p.value</th><th scope=col>parameter</th><th scope=col>conf.low</th><th scope=col>conf.high</th><th scope=col>method</th><th scope=col>alternative</th></tr>\n",
              "\t<tr><th scope=col>&lt;dbl&gt;</th><th scope=col>&lt;dbl&gt;</th><th scope=col>&lt;dbl&gt;</th><th scope=col>&lt;dbl&gt;</th><th scope=col>&lt;dbl&gt;</th><th scope=col>&lt;dbl&gt;</th><th scope=col>&lt;dbl&gt;</th><th scope=col>&lt;dbl&gt;</th><th scope=col>&lt;chr&gt;</th><th scope=col>&lt;chr&gt;</th></tr>\n",
              "</thead>\n",
              "<tbody>\n",
              "\t<tr><td>3.7</td><td>20.66333</td><td>16.96333</td><td>1.915268</td><td>0.06063451</td><td>55.30943</td><td>-0.1710156</td><td>7.571016</td><td>Welch Two Sample t-test</td><td>two.sided</td></tr>\n",
              "</tbody>\n",
              "</table>\n"
            ]
          },
          "metadata": {
            "tags": []
          }
        }
      ]
    },
    {
      "cell_type": "code",
      "metadata": {
        "colab": {
          "base_uri": "https://localhost:8080/",
          "height": 437
        },
        "id": "7wGQ4-JscYcw",
        "outputId": "dd078a8d-2fe9-4ef4-b806-96b78c299f96"
      },
      "source": [
        "# Create a boxplot with geom_boxplot()\n",
        "ggplot(ToothGrowth, aes(group = dose, y = len)) + \n",
        "    geom_boxplot() "
      ],
      "execution_count": 11,
      "outputs": [
        {
          "output_type": "display_data",
          "data": {
            "image/png": "[encoded data removed]",
            "text/plain": [
              "plot without title"
            ]
          },
          "metadata": {
            "tags": [],
            "image/png": {
              "width": 420,
              "height": 420
            }
          }
        }
      ]
    },
    {
      "cell_type": "code",
      "metadata": {
        "colab": {
          "base_uri": "https://localhost:8080/",
          "height": 126
        },
        "id": "dWu9jYeBdDa9",
        "outputId": "ec9051bb-e14c-4ba0-9856-6dafb6e32a80"
      },
      "source": [
        "# Create ToothGrowth_aov\n",
        "ToothGrowth_aov <- aov(len ~ dose + supp, data = ToothGrowth)\n",
        "\n",
        "# Examine ToothGrowth_aov with summary()\n",
        "summary(ToothGrowth_aov)\n"
      ],
      "execution_count": 12,
      "outputs": [
        {
          "output_type": "display_data",
          "data": {
            "text/plain": [
              "            Df Sum Sq Mean Sq F value   Pr(>F)    \n",
              "dose         1 2224.3  2224.3  123.99 6.31e-16 ***\n",
              "supp         1  205.4   205.4   11.45   0.0013 ** \n",
              "Residuals   57 1022.6    17.9                     \n",
              "---\n",
              "Signif. codes:  0 ‘***’ 0.001 ‘**’ 0.01 ‘*’ 0.05 ‘.’ 0.1 ‘ ’ 1"
            ]
          },
          "metadata": {
            "tags": []
          }
        }
      ]
    },
    {
      "cell_type": "code",
      "metadata": {
        "id": "oYFOdVUtdZsT"
      },
      "source": [
        ""
      ],
      "execution_count": null,
      "outputs": []
    }
  ]
}